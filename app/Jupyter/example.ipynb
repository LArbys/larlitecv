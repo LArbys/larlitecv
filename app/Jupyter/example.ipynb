{
 "cells": [
  {
   "cell_type": "code",
   "execution_count": null,
   "metadata": {
    "collapsed": false
   },
   "outputs": [],
   "source": [
    "# import the modules\n",
    "import ROOT\n",
    "from ROOT import std, Long, Double\n",
    "from larlitecv import larlitecv\n",
    "from larcv import larcv\n",
    "import numpy as np\n",
    "from numpy import linalg as LA\n",
    "%matplotlib inline\n",
    "try:\n",
    "    import cv2\n",
    "    print \"OpenCV Version : %s \" % cv2.__version__\n",
    "except:\n",
    "    print \"you do not have OpenCV, recommended for drawing images\"\n",
    "from matplotlib import pyplot as plt\n"
   ]
  },
  {
   "cell_type": "code",
   "execution_count": null,
   "metadata": {
    "collapsed": false
   },
   "outputs": [],
   "source": [
    "# get a larcv and/or larlite file and input it here\n",
    "larcv_inputfile = \"\"\n",
    "larlite_inputfile = \"\"\n",
    "# the data coordinator opens up the files and attempts to keep them in sync\n",
    "dataco = larlitecv.DataCoordinator()\n",
    "dataco.add_inputfile( larcv_inptfile, larcv_inptfule )\n",
    "dataco.configure( \"example.cfg\", \"StorageManager\", \"IOManager\", \"Example\" )\n",
    "dataco.initialize()"
   ]
  },
  {
   "cell_type": "code",
   "execution_count": null,
   "metadata": {
    "collapsed": true
   },
   "outputs": [],
   "source": [
    "# load a event\n",
    "ientry = 0\n",
    "dataco.goto_entry(0,\"larcv\")"
   ]
  },
  {
   "cell_type": "code",
   "execution_count": null,
   "metadata": {
    "collapsed": false
   },
   "outputs": [],
   "source": [
    "# get some images\n",
    "ev_imgs = dataco.get_larcv_data( larcv.kProductImage2D, \"modimgs\" )\n",
    "img_v = ev_imgs.Image2DArray()"
   ]
  }
 ],
 "metadata": {
  "kernelspec": {
   "display_name": "Python 2",
   "language": "python",
   "name": "python2"
  },
  "language_info": {
   "codemirror_mode": {
    "name": "ipython",
    "version": 2
   },
   "file_extension": ".py",
   "mimetype": "text/x-python",
   "name": "python",
   "nbconvert_exporter": "python",
   "pygments_lexer": "ipython2",
   "version": "2.7.11"
  }
 },
 "nbformat": 4,
 "nbformat_minor": 0
}
