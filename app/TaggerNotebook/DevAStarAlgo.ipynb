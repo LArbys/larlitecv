{
 "metadata": {
  "name": "",
  "signature": "sha256:d6f046d6eddebdbb1d0f118618ec80310fde93db719b12bc6c50431230b5e730"
 },
 "nbformat": 3,
 "nbformat_minor": 0,
 "worksheets": [
  {
   "cells": [
    {
     "cell_type": "code",
     "collapsed": false,
     "input": [
      "import numpy as np\n",
      "from math import exp\n",
      "import ROOT as rt\n",
      "from ROOT import std, Long\n",
      "from ROOT import larutil\n",
      "from larcv import larcv\n",
      "from larlitecv import larlitecv\n",
      "import cv2\n",
      "print \"OpenCV Version: \",cv2.__version__\n",
      "from matplotlib import pyplot as plt\n",
      "%matplotlib inline"
     ],
     "language": "python",
     "metadata": {},
     "outputs": []
    },
    {
     "cell_type": "code",
     "collapsed": false,
     "input": [
      "# UTILITY FUNCTIONS\n",
      "\n",
      "# Conver Image2D into numpy array usable by OpenCV draw functions\n",
      "def make_img( img2d, minval, maxval, colormap=cv2.COLORMAP_BONE ):\n",
      "    imgcp = larcv.Image2D( img2d )\n",
      "    img_np = np.transpose( larcv.as_ndarray( imgcp ), (1,0) )\n",
      "    img_np[ img_np<minval ] = minval\n",
      "    img_np -= minval\n",
      "    img_np[ img_np>maxval ] = maxval\n",
      "    img_np *= 255.0/(maxval)\n",
      "    img_cv = cv2.cvtColor( img_np, cv2.COLOR_GRAY2BGR )\n",
      "    img_cv = cv2.applyColorMap(img_cv.astype(np.uint8), colormap )\n",
      "    return img_cv\n",
      "\n",
      "def draw_flashes( img2d, input_data ):\n",
      "    meta = input_data.img_v.front().meta()\n",
      "    #print \"num of flash sets: \",input_data.opflashes_v.size()\n",
      "    lastx = 0\n",
      "    for iset in range(input_data.opflashes_v.size()):\n",
      "        opflash_v = input_data.opflashes_v[iset]\n",
      "        for iflash in range(opflash_v.size()):\n",
      "            opflash = opflash_v[iflash]\n",
      "            anode_tick = 3200.0 + opflash.Time()/0.5 + 30.0\n",
      "            cathode_tick = anode_tick + 258.0/0.111436/0.5 - 90.0\n",
      "            #print (iset,iflash),\": anode=\",anode_tick,\" cathode=\",cathode_tick\n",
      "            if anode_tick>meta.min_y() and anode_tick<meta.max_y():\n",
      "                anode_row = meta.row(anode_tick)\n",
      "                img2d = cv2.line( img2d, (0,anode_row), (meta.cols(),anode_row), (255,0,255), 1 )\n",
      "                img2d = cv2.putText( img2d, \"A (%d,%d) %d\"%(iset,iflash,anode_tick), (0,anode_row+5), cv2.FONT_HERSHEY_PLAIN, 2.0, (255,255,255), 2 )\n",
      "            if cathode_tick>meta.min_y() and cathode_tick<meta.max_y():\n",
      "                cathode_row = meta.row(cathode_tick)\n",
      "                img2d = cv2.line( img2d, (0,cathode_row), (meta.cols(),cathode_row), (0,255,255), 1 )\n",
      "                img2d = cv2.putText( img2d, \"C (%d,%d) %d\"%(iset,iflash,cathode_tick), (0,cathode_row+5), cv2.FONT_HERSHEY_PLAIN, 2.0, (255,255,255), 2 )\n",
      "    return\n",
      "\n"
     ],
     "language": "python",
     "metadata": {},
     "outputs": []
    },
    {
     "cell_type": "markdown",
     "metadata": {},
     "source": [
      "## Set Inputs"
     ]
    },
    {
     "cell_type": "code",
     "collapsed": false,
     "input": [
      "cfg_file = \"tagger.cfg\"\n",
      "flist_larcv=\"input_larcv.txt\"\n",
      "flist_larlite=\"input_larlite.txt\""
     ],
     "language": "python",
     "metadata": {},
     "outputs": []
    },
    {
     "cell_type": "code",
     "collapsed": false,
     "input": [
      "tagger = larlitecv.CosmicTagger( cfg_file, flist_larcv, flist_larlite )"
     ],
     "language": "python",
     "metadata": {},
     "outputs": []
    },
    {
     "cell_type": "markdown",
     "metadata": {},
     "source": [
      "## Load Entry"
     ]
    },
    {
     "cell_type": "code",
     "collapsed": false,
     "input": [
      "tagger.setEntry(0)"
     ],
     "language": "python",
     "metadata": {},
     "outputs": []
    },
    {
     "cell_type": "code",
     "collapsed": false,
     "input": [
      "processinput_ok = tagger.processInputImages()\n",
      "print \"Processed OK: \",processinput_ok\n",
      "print tagger.printState()\n"
     ],
     "language": "python",
     "metadata": {},
     "outputs": []
    },
    {
     "cell_type": "code",
     "collapsed": false,
     "input": [
      "inputdata = tagger.getInputData()\n",
      "for p in range(inputdata.img_v.size()):\n",
      "    img_cv = make_img( inputdata.img_v.at(p), -5, 50, cv2.COLORMAP_HOT )\n",
      "    draw_flashes( img_cv, inputdata )\n",
      "    f = plt.figure(figsize=(40,40))\n",
      "    plt.imshow( img_cv )"
     ],
     "language": "python",
     "metadata": {},
     "outputs": []
    },
    {
     "cell_type": "markdown",
     "metadata": {},
     "source": [
      "## Find Boundary Crossing Points"
     ]
    },
    {
     "cell_type": "code",
     "collapsed": false,
     "input": [
      "# Find Boundaries\n",
      "processboundary_ok = tagger.findBoundaryEnds()\n",
      "thrumudata = tagger.getThruMuData()\n",
      "boundarypts = {\"side\":thrumudata.side_spacepoint_v,\n",
      "               \"anode\":thrumudata.anode_spacepoint_v,\n",
      "               \"cathode\":thrumudata.cathode_spacepoint_v,\n",
      "               \"imgends\":thrumudata.imgends_spacepoint_v}\n",
      "print \"ThruMu: \",processboundary_ok"
     ],
     "language": "python",
     "metadata": {},
     "outputs": []
    },
    {
     "cell_type": "code",
     "collapsed": false,
     "input": [
      "# Plot End points\n",
      "inputdata = tagger.getInputData()\n",
      "thrumudata = tagger.getThruMuData()\n",
      "minpix = 10.0\n",
      "maxpix = 500.0\n",
      "\n",
      "endtype_colors = {0:(0,0,255),   # top\n",
      "                  1:(255,0,0),   # bot\n",
      "                  2:(0,255,255), # upstream\n",
      "                  3:(255,0,255), # downstream\n",
      "                  }\n",
      "boundary_symbol = {0:\"T\",\n",
      "                   1:\"B\",\n",
      "                   2:\"U\",\n",
      "                   3:\"D\",\n",
      "                   4:\"A\",\n",
      "                   5:\"C\",\n",
      "                   6:\"E\"}\n",
      "for p in range(inputdata.img_v.size()):\n",
      "    #if p not in [2]:\n",
      "    #    continue\n",
      "    \n",
      "    # mark end points\n",
      "    print \"[ PLANE %d ]\"%(p)\n",
      "    print \"Side-tagger End points: \",thrumudata.side_spacepoint_v.size()\n",
      "    \n",
      "    img_cv = make_img( inputdata.img_v.at(p), -10, 50, cv2.COLORMAP_HOT )\n",
      "    #print \"number of flashes: \",inputdata.opflashes_v.size()\n",
      "    #draw_flashes( img_cv, inputdata )\n",
      "    for ipt in range(thrumudata.side_spacepoint_v.size()):\n",
      "        sp = thrumudata.side_spacepoint_v.at(ipt)\n",
      "        #print (sp.at(2).col, sp.at(2).row)\n",
      "        color = endtype_colors[ sp.type() ]\n",
      "        img_cv = cv2.circle( img_cv, (sp.at(p).col, sp.at(p).row), 6, color, -1 )\n",
      "        img_cv = cv2.putText( img_cv, \"%s%d\"%(boundary_symbol[sp.type()],ipt), (sp.at(p).col+8, sp.at(p).row+5), cv2.FONT_HERSHEY_PLAIN, 2.0, (255,255,255), 2 )\n",
      "    print \"Anode-tagged End points: \",thrumudata.anode_spacepoint_v.size()\n",
      "    for ipt in range(thrumudata.anode_spacepoint_v.size()):\n",
      "        sp = thrumudata.anode_spacepoint_v.at(ipt)\n",
      "        color = (255,140,0)\n",
      "        img_cv = cv2.circle( img_cv, (sp.at(p).col, sp.at(p).row), 6, color, -1 )\n",
      "        img_cv = cv2.putText( img_cv, \"%s%d\"%(boundary_symbol[sp.type()],ipt), (sp.at(p).col+8, sp.at(p).row+5), cv2.FONT_HERSHEY_PLAIN, 2.0, (255,255,255), 2 )\n",
      "    print \"Cathode-tagged End points: \",thrumudata.cathode_spacepoint_v.size()\n",
      "    for ipt in range(thrumudata.cathode_spacepoint_v.size()):\n",
      "        sp = thrumudata.cathode_spacepoint_v.at(ipt)\n",
      "        color = (85,107,47)\n",
      "        img_cv = cv2.circle( img_cv, (sp.at(p).col, sp.at(p).row), 6, color, -1 )\n",
      "        img_cv = cv2.putText( img_cv, \"%s%d\"%(boundary_symbol[sp.type()],ipt), (sp.at(p).col+8, sp.at(p).row+5), cv2.FONT_HERSHEY_PLAIN, 2.0, (255,255,255), 2 )\n",
      "\n",
      "    print \"End-tagged End points: \",thrumudata.imgends_spacepoint_v.size()\n",
      "    for ipt in range(thrumudata.imgends_spacepoint_v.size()):\n",
      "        sp = thrumudata.imgends_spacepoint_v.at(ipt)\n",
      "        color = (189,183,107)\n",
      "        img_cv = cv2.circle( img_cv, (sp.at(p).col, sp.at(p).row), 6, color, -1 )\n",
      "        img_cv = cv2.putText( img_cv, \"%s%d\"%(boundary_symbol[sp.type()],ipt), (sp.at(p).col+8, sp.at(p).row+5), cv2.FONT_HERSHEY_PLAIN, 2.0, (255,255,255), 2 ) \n",
      "    \n",
      "    plt.figure(figsize=(40,80))\n",
      "    plt.imshow( img_cv )"
     ],
     "language": "python",
     "metadata": {},
     "outputs": []
    },
    {
     "cell_type": "markdown",
     "metadata": {},
     "source": [
      "## Test AStarAlgo"
     ]
    },
    {
     "cell_type": "code",
     "collapsed": false,
     "input": [
      "# Get the config from the tagger class\n",
      "\n",
      "tagger_cfg = tagger.getConfig()\n",
      "astar_cfg = tagger_cfg.thrumu_tracker_cfg.pass_configs.front().astar3d_cfg\n",
      "astar_cfg.verbosity = 1\n",
      "astar_cfg.astar_threshold.resize(3,5.0)\n",
      "astar_cfg.astar_threshold[0] = 10.0\n",
      "astar_cfg.astar_threshold[1] = 10.0\n",
      "astar_cfg.astar_threshold[2] = 10.0\n",
      "astar_cfg.min_nplanes_w_hitpixel = 2\n",
      "astar_cfg.min_nplanes_w_charge = 2\n",
      "astar_cfg.path_restriction_radius = 20.0\n",
      "astar_cfg.store_score_image = True\n",
      "\n",
      "astar_cfg.dump()\n",
      "\n",
      "astaralgo = larlitecv.AStar3DAlgo( astar_cfg )\n"
     ],
     "language": "python",
     "metadata": {},
     "outputs": []
    },
    {
     "cell_type": "code",
     "collapsed": false,
     "input": [
      "# Pick boundary ends\n",
      "# Using Boundary End plot above, pick points\n",
      "# the boundarypts dictionary options: side (T,B,U,D), anode (A), cathode (C), imgends (E)\n",
      "pt1 = boundarypts[\"imgends\"][2]\n",
      "pt2 = boundarypts[\"side\"][15]\n",
      "\n",
      "imgcoords1 = larcv.UBWireTool.getProjectedImagePixel( pt1.pos(), inputdata.img_v.front().meta(), 3)\n",
      "imgcoords2 = larcv.UBWireTool.getProjectedImagePixel( pt2.pos(), inputdata.img_v.front().meta(), 3)\n",
      "cols1 = std.vector(\"int\")(3,0)\n",
      "cols2 = std.vector(\"int\")(3,0)\n",
      "for p in range(0,3):\n",
      "    cols1[p] = imgcoords1[p+1]\n",
      "    cols2[p] = imgcoords2[p+1]"
     ],
     "language": "python",
     "metadata": {},
     "outputs": []
    },
    {
     "cell_type": "code",
     "collapsed": false,
     "input": [
      "# Run Algorithm\n",
      "print \"going from (row,col): (%d,%d,%d,%d) -> (%d,%d,%d,%d)\"%(imgcoords1[0],cols1[0],cols1[1],cols1[2],imgcoords2[0],cols2[0],cols2[1],cols2[2])\n",
      "reached = Long(0)\n",
      "astartrack = astaralgo.downsampleAndFindPath( 4, inputdata.img_v, inputdata.badch_v, inputdata.badch_v, imgcoords1[0], imgcoords2[0], cols1, cols2, reached, 2 )\n",
      "print \"size of astart track: \",astartrack.size()\n",
      "print \"reached: \",reached"
     ],
     "language": "python",
     "metadata": {},
     "outputs": []
    },
    {
     "cell_type": "code",
     "collapsed": false,
     "input": [
      "# visualize scores\n",
      "score_img_v = astaralgo.getScoreImages()\n",
      "\n",
      "for p in range(9):\n",
      "    if p<3:\n",
      "        img_cv = make_img( score_img_v.at(p), 10, 50, cv2.COLORMAP_OCEAN )\n",
      "    else:\n",
      "        img_cv = make_img( score_img_v.at(p), -10, 500, cv2.COLORMAP_OCEAN )\n",
      "    f = plt.figure(figsize=(40,40))\n",
      "    plt.imshow( img_cv )"
     ],
     "language": "python",
     "metadata": {},
     "outputs": []
    },
    {
     "cell_type": "code",
     "collapsed": false,
     "input": [
      "nodes=astartrack.size()\n",
      "    \n",
      "print \"NODES: \",nodes\n",
      "\n",
      "track_imgs = {}\n",
      "for p in range(0,3):\n",
      "    track_imgs[p] = make_img( inputdata.img_v[p], -5, 30, cv2.COLORMAP_HOT )\n",
      "    \n",
      "for inode in range(nodes):\n",
      "    node = astartrack.at(inode)\n",
      "    fpos = std.vector(\"float\")(3,0)\n",
      "    fpos[0] = (node.tyz[0]-3200.0)*0.5*larutil.LArProperties.GetME().DriftVelocity()\n",
      "    fpos[1] = node.tyz[1]\n",
      "    fpos[2] = node.tyz[2]\n",
      "    imgcoord = larcv.UBWireTool.getProjectedImagePixel(fpos, inputdata.img_v.front().meta(), 3)\n",
      "    #print inode,imgcoord[0],imgcoord[1],imgcoord[2],imgcoord[3]\n",
      "    for p in range(0,3):\n",
      "        cv2.circle( track_imgs[p], (imgcoord.at(p+1), imgcoord.at(0)), 5, (250,250,250), -1 )\n",
      "for p in range(3):\n",
      "    plt.figure(figsize=(40,80))\n",
      "    plt.imshow( track_imgs[p] )"
     ],
     "language": "python",
     "metadata": {},
     "outputs": []
    }
   ],
   "metadata": {}
  }
 ]
}