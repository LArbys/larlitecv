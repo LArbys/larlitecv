{
 "metadata": {
  "name": "",
  "signature": "sha256:3243beb0fecd6d3bd50aed6029907c673df3ee4567b8c79639ef949cc944c0ed"
 },
 "nbformat": 3,
 "nbformat_minor": 0,
 "worksheets": [
  {
   "cells": [
    {
     "cell_type": "code",
     "collapsed": false,
     "input": [
      "import numpy as np\n",
      "from math import exp\n",
      "import ROOT as rt\n",
      "from ROOT import std, Long\n",
      "from ROOT import larutil\n",
      "from larcv import larcv\n",
      "from larlitecv import larlitecv\n",
      "import cv2\n",
      "print \"OpenCV Version: \",cv2.__version__\n",
      "from matplotlib import pyplot as plt\n",
      "%matplotlib inline"
     ],
     "language": "python",
     "metadata": {},
     "outputs": []
    },
    {
     "cell_type": "code",
     "collapsed": false,
     "input": [
      "# UTILITY FUNCTIONS\n",
      "from drawing_functions import *"
     ],
     "language": "python",
     "metadata": {},
     "outputs": []
    },
    {
     "cell_type": "markdown",
     "metadata": {},
     "source": [
      "## Set Inputs"
     ]
    },
    {
     "cell_type": "code",
     "collapsed": false,
     "input": [
      "cfg_file = \"tagger.cfg\"\n",
      "flist_larcv=\"input_larcv.txt\"\n",
      "flist_larlite=\"input_larlite.txt\""
     ],
     "language": "python",
     "metadata": {},
     "outputs": []
    },
    {
     "cell_type": "code",
     "collapsed": false,
     "input": [
      "tagger = larlitecv.CosmicTagger( cfg_file, flist_larcv, flist_larlite )"
     ],
     "language": "python",
     "metadata": {},
     "outputs": []
    },
    {
     "cell_type": "markdown",
     "metadata": {},
     "source": [
      "## Load Entry"
     ]
    },
    {
     "cell_type": "code",
     "collapsed": false,
     "input": [
      "tagger.setEntry(2)"
     ],
     "language": "python",
     "metadata": {},
     "outputs": []
    },
    {
     "cell_type": "code",
     "collapsed": false,
     "input": [
      "processinput_ok = tagger.processInputImages()\n",
      "print \"Processed OK: \",processinput_ok\n",
      "print tagger.printState()\n"
     ],
     "language": "python",
     "metadata": {},
     "outputs": []
    },
    {
     "cell_type": "code",
     "collapsed": false,
     "input": [
      "inputdata = tagger.getInputData()\n",
      "for p in range(inputdata.img_v.size()):\n",
      "    img_cv = make_img( inputdata.img_v.at(p), -5, 50, cv2.COLORMAP_HOT )\n",
      "    draw_flashes( img_cv, inputdata )\n",
      "    f = plt.figure(figsize=(40,40))\n",
      "    plt.imshow( img_cv )"
     ],
     "language": "python",
     "metadata": {},
     "outputs": []
    },
    {
     "cell_type": "markdown",
     "metadata": {},
     "source": [
      "## Find Boundary Crossing Points"
     ]
    },
    {
     "cell_type": "code",
     "collapsed": false,
     "input": [
      "# Find Boundaries\n",
      "processboundary_ok = tagger.findBoundaryEnds()\n",
      "thrumudata = tagger.getThruMuData()\n",
      "boundarypts = {\"side\":thrumudata.side_spacepoint_v,\n",
      "               \"anode\":thrumudata.anode_spacepoint_v,\n",
      "               \"cathode\":thrumudata.cathode_spacepoint_v,\n",
      "               \"imgends\":thrumudata.imgends_spacepoint_v}\n",
      "print \"ThruMu: \",processboundary_ok"
     ],
     "language": "python",
     "metadata": {},
     "outputs": []
    },
    {
     "cell_type": "code",
     "collapsed": false,
     "input": [
      "# Filtered End points\n",
      "inputdata = tagger.getInputData()\n",
      "thrumudata = tagger.getThruMuData()\n",
      "minpix = 10.0\n",
      "maxpix = 500.0\n",
      "\n",
      "filtered_img_cv = {}\n",
      "for p in range(inputdata.img_v.size()):\n",
      "    #if p not in [2]:\n",
      "    #    continue    \n",
      "    filtered_img_cv[p] = make_img( inputdata.img_v.at(p), -5, 50, cv2.COLORMAP_HOT )\n",
      "\n",
      "# collect\n",
      "filtered_v = std.vector(\"const larlitecv::BoundarySpacePoint*\")()\n",
      "for spset in [thrumudata.side_filtered_v, thrumudata.anode_filtered_v, thrumudata.cathode_filtered_v, thrumudata.imgends_filtered_v]:\n",
      "    for isp in range(spset.size()):\n",
      "        sp = spset[isp]\n",
      "        filtered_v.push_back(sp)\n",
      "\n",
      "\n",
      "draw_boundary_points( filtered_img_cv, inputdata, filtered_v, True )  \n",
      "\n",
      "# mark end points\n",
      "print \"Filtered Side-tagger End points: \",thrumudata.side_filtered_v.size()\n",
      "#draw_boundary_points( filtered_img_cv, inputdata, thrumudata.side_filtered_v, True )\n",
      "\n",
      "print \"Anode-tagged End points: \",thrumudata.anode_filtered_v.size()\n",
      "#draw_boundary_points( filtered_img_cv, inputdata, thrumudata.anode_filtered_v, True )\n",
      "\n",
      "print \"Cathode-tagged End points: \",thrumudata.cathode_filtered_v.size()\n",
      "#draw_boundary_points( filtered_img_cv, inputdata, thrumudata.cathode_filtered_v, True )\n",
      "\n",
      "print \"End-tagged End points: \",thrumudata.imgends_filtered_v.size()\n",
      "#draw_boundary_points( filtered_img_cv, inputdata, thrumudata.imgends_filtered_v, True )\n",
      "\n",
      "for isp in range(filtered_v.size()):\n",
      "    sp = filtered_v[isp]\n",
      "    print \"#%d\"%(isp),\":\",filtered_v[isp].type(),\"(\",sp.pos()[0],\",\",sp.pos()[1],\",\",sp.pos()[2],\")\"\n",
      "\n",
      "for p in range(3):\n",
      "    plt.figure(figsize=(40,80))\n",
      "    plt.imshow( filtered_img_cv[p] )"
     ],
     "language": "python",
     "metadata": {},
     "outputs": []
    },
    {
     "cell_type": "markdown",
     "metadata": {},
     "source": [
      "## Test AStarAlgo"
     ]
    },
    {
     "cell_type": "code",
     "collapsed": false,
     "input": [
      "# Get the config from the tagger class\n",
      "\n",
      "tagger_cfg = tagger.getConfig()\n",
      "astar_cfg = tagger_cfg.thrumu_tracker_cfg.pass_configs.front().astar3d_cfg\n",
      "astar_cfg.verbosity = 2\n",
      "astar_cfg.astar_threshold.resize(3,5.0)\n",
      "astar_cfg.astar_threshold[0] = 10.0\n",
      "astar_cfg.astar_threshold[1] = 10.0\n",
      "astar_cfg.astar_threshold[2] = 10.0\n",
      "astar_cfg.min_nplanes_w_hitpixel = 2\n",
      "astar_cfg.min_nplanes_w_charge = 2\n",
      "astar_cfg.path_restriction_radius = 20.0\n",
      "astar_cfg.store_score_image = True\n",
      "\n",
      "astar_cfg.dump()\n",
      "\n",
      "astaralgo = larlitecv.AStar3DAlgo( astar_cfg )\n"
     ],
     "language": "python",
     "metadata": {},
     "outputs": []
    },
    {
     "cell_type": "code",
     "collapsed": false,
     "input": [
      "# Pick boundary ends\n",
      "# Using Boundary End plot above, pick points\n",
      "# the boundarypts dictionary options: side (T,B,U,D), anode (A), cathode (C), imgends (E)\n",
      "pt1 = boundarypts[\"side\"][1]\n",
      "pt2 = boundarypts[\"side\"][8]\n",
      "\n",
      "imgcoords1 = larcv.UBWireTool.getProjectedImagePixel( pt1.pos(), inputdata.img_v.front().meta(), 3)\n",
      "imgcoords2 = larcv.UBWireTool.getProjectedImagePixel( pt2.pos(), inputdata.img_v.front().meta(), 3)\n",
      "cols1 = std.vector(\"int\")(3,0)\n",
      "cols2 = std.vector(\"int\")(3,0)\n",
      "for p in range(0,3):\n",
      "    cols1[p] = imgcoords1[p+1]\n",
      "    cols2[p] = imgcoords2[p+1]"
     ],
     "language": "python",
     "metadata": {},
     "outputs": []
    },
    {
     "cell_type": "code",
     "collapsed": false,
     "input": [
      "# Run Algorithm\n",
      "print \"going from (row,col): (%d,%d,%d,%d) -> (%d,%d,%d,%d)\"%(imgcoords1[0],cols1[0],cols1[1],cols1[2],imgcoords2[0],cols2[0],cols2[1],cols2[2])\n",
      "reached = Long(0)\n",
      "astartrack = astaralgo.downsampleAndFindPath( 4, inputdata.img_v, inputdata.badch_v, inputdata.badch_v, imgcoords1[0], imgcoords2[0], cols1, cols2, reached, 2 )\n",
      "print \"size of astart track: \",astartrack.size()\n",
      "print \"reached: \",reached"
     ],
     "language": "python",
     "metadata": {},
     "outputs": []
    },
    {
     "cell_type": "code",
     "collapsed": false,
     "input": [
      "# visualize scores\n",
      "score_img_v = astaralgo.getScoreImages()\n",
      "\n",
      "for p in range(9):\n",
      "    if p<3:\n",
      "        img_cv = make_img( score_img_v.at(p), 10, 50, cv2.COLORMAP_OCEAN )\n",
      "    else:\n",
      "        img_cv = make_img( score_img_v.at(p), -10, 500, cv2.COLORMAP_OCEAN )\n",
      "    f = plt.figure(figsize=(40,40))\n",
      "    plt.imshow( img_cv )"
     ],
     "language": "python",
     "metadata": {},
     "outputs": []
    },
    {
     "cell_type": "code",
     "collapsed": false,
     "input": [
      "nodes=astartrack.size()\n",
      "    \n",
      "print \"NODES: \",nodes\n",
      "\n",
      "track_imgs = {}\n",
      "for p in range(0,3):\n",
      "    track_imgs[p] = make_img( inputdata.img_v[p], -5, 30, cv2.COLORMAP_HOT )\n",
      "    \n",
      "for inode in range(nodes):\n",
      "    node = astartrack.at(inode)\n",
      "    fpos = std.vector(\"float\")(3,0)\n",
      "    fpos[0] = (node.tyz[0]-3200.0)*0.5*larutil.LArProperties.GetME().DriftVelocity()\n",
      "    fpos[1] = node.tyz[1]\n",
      "    fpos[2] = node.tyz[2]\n",
      "    imgcoord = larcv.UBWireTool.getProjectedImagePixel(fpos, inputdata.img_v.front().meta(), 3)\n",
      "    #print inode,imgcoord[0],imgcoord[1],imgcoord[2],imgcoord[3]\n",
      "    for p in range(0,3):\n",
      "        cv2.circle( track_imgs[p], (imgcoord.at(p+1), imgcoord.at(0)), 5, (250,250,250), -1 )\n",
      "for p in range(3):\n",
      "    plt.figure(figsize=(40,80))\n",
      "    plt.imshow( track_imgs[p] )"
     ],
     "language": "python",
     "metadata": {},
     "outputs": []
    },
    {
     "cell_type": "code",
     "collapsed": false,
     "input": [],
     "language": "python",
     "metadata": {},
     "outputs": []
    }
   ],
   "metadata": {}
  }
 ]
}