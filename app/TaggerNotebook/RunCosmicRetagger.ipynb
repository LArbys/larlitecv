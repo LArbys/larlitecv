{
 "metadata": {
  "name": "",
  "signature": "sha256:7ea5efe69d73eec76c3cc11022f1b954abc544d09517888b4d2bc14097a8c2a7"
 },
 "nbformat": 3,
 "nbformat_minor": 0,
 "worksheets": [
  {
   "cells": [
    {
     "cell_type": "code",
     "collapsed": false,
     "input": [
      "import numpy as np\n",
      "import ROOT as rt\n",
      "from larcv import larcv\n",
      "from larlitecv import larlitecv\n",
      "import cv2\n",
      "print \"OpenCV Version: \",cv2.__version__\n",
      "from matplotlib import pyplot as plt\n",
      "%matplotlib inline"
     ],
     "language": "python",
     "metadata": {},
     "outputs": []
    },
    {
     "cell_type": "markdown",
     "metadata": {},
     "source": [
      "## Set Inputs"
     ]
    },
    {
     "cell_type": "code",
     "collapsed": false,
     "input": [
      "cfg_file = \"tagger.cfg\"\n",
      "taggerout_larcv=\"/home/twongjirad/working/larbys/larlitecv/app/TaggerCROI/bin/tagger_anaout_larcv.root\"\n",
      "taggerout_larlite=\"/home/twongjirad/working/larbys/larlitecv/app/TaggerCROI/bin/tagger_anaout_larlite.root\""
     ],
     "language": "python",
     "metadata": {},
     "outputs": []
    },
    {
     "cell_type": "markdown",
     "metadata": {},
     "source": [
      "## Define Drawing Functions"
     ]
    },
    {
     "cell_type": "code",
     "collapsed": false,
     "input": [
      "# UTILITY FUNCTIONS\n",
      "\n",
      "# Conver Image2D into numpy array usable by OpenCV draw functions\n",
      "def make_img( img2d, minval, maxval, colormap=cv2.COLORMAP_BONE ):\n",
      "    imgcp = larcv.Image2D(img2d)\n",
      "    img_np = np.transpose( larcv.as_ndarray( imgcp ), (1,0) )\n",
      "    img_np[ img_np<minval ] = 0\n",
      "    img_np -= minval\n",
      "    img_np[ img_np>maxval ] = maxval\n",
      "    img_np /= 255.0/(maxval-minval)\n",
      "    img_cv = cv2.cvtColor( img_np, cv2.COLOR_GRAY2BGR )\n",
      "    img_cv = cv2.applyColorMap(img_cv.astype(np.uint8), colormap )\n",
      "    return img_cv\n",
      "\n",
      "def draw_flashes( img2d, input_data ):\n",
      "    meta = input_data.img_v.front().meta()\n",
      "    #print \"num of flash sets: \",input_data.opflashes_v.size()\n",
      "    lastx = 0\n",
      "    for iset in range(input_data.opflashes_v.size()):\n",
      "        opflash_v = input_data.opflashes_v[iset]\n",
      "        for iflash in range(opflash_v.size()):\n",
      "            opflash = opflash_v[iflash]\n",
      "            anode_tick = 3200.0 + opflash.Time()/0.5 + 30.0\n",
      "            cathode_tick = anode_tick + 258.0/0.111436/0.5 - 90.0\n",
      "            #print (iset,iflash),\": anode=\",anode_tick,\" cathode=\",cathode_tick\n",
      "            if anode_tick>meta.min_y() and anode_tick<meta.max_y():\n",
      "                anode_row = meta.row(anode_tick)\n",
      "                img2d = cv2.line( img2d, (0,anode_row), (meta.cols(),anode_row), (255,0,255) )\n",
      "                img2d = cv2.putText( img2d, \"A (%d,%d) %d\"%(iset,iflash,anode_tick), (0,anode_row+5), cv2.FONT_HERSHEY_PLAIN, 2.0, (0,0,0) )\n",
      "            if cathode_tick>meta.min_y() and cathode_tick<meta.max_y():\n",
      "                cathode_row = meta.row(cathode_tick)\n",
      "                img2d = cv2.line( img2d, (0,cathode_row), (meta.cols(),cathode_row), (0,255,255) )\n",
      "                img2d = cv2.putText( img2d, \"C (%d,%d) %d\"%(iset,iflash,cathode_tick), (0,cathode_row+5), cv2.FONT_HERSHEY_PLAIN, 2.0, (0,0,0) )\n",
      "    return\n",
      "\n",
      "def draw_boundary_points( imgcv, spacepoint_v ):\n",
      "    endtype_colors = {0:(0,0,255),   # top\n",
      "                      1:(255,0,0),   # bot\n",
      "                      2:(0,255,255), # upstream\n",
      "                      3:(255,0,255), # downstream\n",
      "                      4:(255,140,0), # anode\n",
      "                      5:(85,107,47), # cathode\n",
      "                      6:(189,183,107) # image ends\n",
      "                      }\n",
      "    for ipt in range(spacepoint_v.size()):\n",
      "        sp = spacepoint_v.at(ipt)\n",
      "        color = endtype_colors[ sp.type() ]\n",
      "        imgcv = cv2.circle( imgcv, (sp.at(p).col, sp.at(p).row), 10, color, -1 )\n",
      "    return"
     ],
     "language": "python",
     "metadata": {},
     "outputs": []
    },
    {
     "cell_type": "code",
     "collapsed": false,
     "input": [
      "tagger = larlitecv.CosmicRetagger( cfg_file, taggerout_larcv, taggerout_larlite )"
     ],
     "language": "python",
     "metadata": {},
     "outputs": []
    },
    {
     "cell_type": "code",
     "collapsed": false,
     "input": [
      "tagger.printState()"
     ],
     "language": "python",
     "metadata": {},
     "outputs": []
    },
    {
     "cell_type": "code",
     "collapsed": false,
     "input": [
      "tagger.setEntry(0)"
     ],
     "language": "python",
     "metadata": {},
     "outputs": []
    },
    {
     "cell_type": "code",
     "collapsed": false,
     "input": [
      "processinput_ok = tagger.processInputImages()\n",
      "print \"Processed OK: \",processinput_ok\n",
      "print tagger.printState()"
     ],
     "language": "python",
     "metadata": {},
     "outputs": []
    },
    {
     "cell_type": "code",
     "collapsed": false,
     "input": [
      "# Define Conversion of image2d to Plottable Input Images\n",
      "\n",
      "inputdata = tagger.getInputData()\n",
      "for p in range(inputdata.img_v.size()):\n",
      "    img_cv = make_img( inputdata.img_v.at(p), 10, 500 )\n",
      "    draw_flashes( img_cv, inputdata )\n",
      "    plt.figure(figsize=(40,40))\n",
      "    plt.imshow( img_cv )\n"
     ],
     "language": "python",
     "metadata": {},
     "outputs": []
    },
    {
     "cell_type": "code",
     "collapsed": false,
     "input": [
      "# Plot End points\n",
      "inputdata = tagger.getInputData()\n",
      "thrumudata = tagger.getThruMuData()\n",
      "minpix = 10.0\n",
      "maxpix = 500.0\n",
      "\n",
      "for p in range(inputdata.img_v.size()):\n",
      "    #if p not in [2]:\n",
      "    #    continue\n",
      "    \n",
      "    # mark end points\n",
      "    print \"[ PLANE %d ]\"%(p)\n",
      "    img_cv = make_img( inputdata.img_v.at(p), minpix, maxpix )\n",
      "    draw_boundary_points(img_cv, thrumudata.side_spacepoint_v )\n",
      "    draw_boundary_points(img_cv, thrumudata.anode_spacepoint_v )\n",
      "    draw_boundary_points(img_cv, thrumudata.cathode_spacepoint_v )\n",
      "    draw_boundary_points(img_cv, thrumudata.imgends_spacepoint_v )\n",
      "    \n",
      "    plt.figure(figsize=(40,40))\n",
      "    plt.imshow( img_cv )"
     ],
     "language": "python",
     "metadata": {},
     "outputs": []
    },
    {
     "cell_type": "code",
     "collapsed": false,
     "input": [
      "# RE-RUN THRUMU\n",
      "processthrumu_ok = tagger.findThruMu()\n",
      "print \"ThruMu: \",processthrumu_ok"
     ],
     "language": "python",
     "metadata": {},
     "outputs": []
    }
   ],
   "metadata": {}
  }
 ]
}