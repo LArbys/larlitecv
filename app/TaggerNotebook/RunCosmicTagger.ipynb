{
 "metadata": {
  "name": "",
  "signature": "sha256:06397455e780e65b20f71febf9d6bd01bd7e1dfb6d771c9f610a2931cfbc5f88"
 },
 "nbformat": 3,
 "nbformat_minor": 0,
 "worksheets": [
  {
   "cells": [
    {
     "cell_type": "code",
     "collapsed": false,
     "input": [
      "import ROOT as rt\n",
      "from larcv import larcv\n",
      "from larlitecv import larlitecv"
     ],
     "language": "python",
     "metadata": {},
     "outputs": [
      {
       "javascript": [
        "\n",
        "require(['notebook'],\n",
        "  function() {\n",
        "    IPython.CodeCell.config_defaults.highlight_modes['magic_text/x-c++src'] = {'reg':[/^%%cpp/]};\n",
        "    console.log(\"JupyROOT - %%cpp magic configured\");\n",
        "  }\n",
        ");\n"
       ],
       "metadata": {},
       "output_type": "display_data"
      },
      {
       "output_type": "stream",
       "stream": "stdout",
       "text": [
        "Welcome to JupyROOT 6.08/06\n"
       ]
      }
     ],
     "prompt_number": 1
    },
    {
     "cell_type": "code",
     "collapsed": false,
     "input": [
      "cfg_file = \"tagger.cfg\"\n",
      "flist_larcv=\"input_larcv.txt\"\n",
      "flist_larlite=\"input_larlite.txt\""
     ],
     "language": "python",
     "metadata": {},
     "outputs": [],
     "prompt_number": 5
    },
    {
     "cell_type": "code",
     "collapsed": false,
     "input": [
      "tagger = larlitecv.CosmicTagger( cfg_file, flist_larcv, flist_larlite )"
     ],
     "language": "python",
     "metadata": {},
     "outputs": [
      {
       "output_type": "stream",
       "stream": "stdout",
       "text": [
        "ThruMuPassConfig0: runradial=1 runlinear=1 runastar=0\n",
        "ThruMuPassConfig1: runradial=1 runlinear=1 runastar=0\n",
        "ThruMuPassConfig2: runradial=1 runlinear=1 runastar=1\n",
        "ThruMuPassConfig3: runradial=1 runlinear=1 runastar=1\n",
        "ThruMuPassConfig4: runradial=0 runlinear=1 runastar=1\n",
        "TaggerFlashMatchAlgo : {\n",
        "  BBoxPadcm : 20.0\n",
        "  BeamTickRange : [100, 400]\n",
        "  CosmicDiscFudgeFactor : 16666.5\n",
        "  FVCutX : [-10, 270.0]\n",
        "  FVCutY : [-130.0, 130.0]\n",
        "  FVCutZ : [-10.0, 1045.0]\n",
        "  FlashMatchChi2Cut : 100.0\n",
        "  FlashPEThreshold : 10.0\n",
        "  FudgeFactor : 33333.0\n",
        "  MeV_per_cm : 2.3\n",
        "  PMTFlashThreshold : 3.0\n",
        "  QClusterStepSize : 0.3\n",
        "  ShapeOnlyFit : true\n",
        "  TotalPESigmaCut : 3.0\n",
        "  UseGaus2D : false\n",
        "  Verbosity : 2\n",
        "  DetectorConfiguration : {\n",
        "    DriftVelocity : 0.1114359\n",
        "    ActiveVolume : {\n",
        "      X : [0.0,256.35]\n",
        "      Y : [-116.5,116.5]\n",
        "      Z : [0.0,1036.8]\n",
        "    }\n",
        "\n",
        "    PMTPosition : {\n",
        "      X : [-11.6415,-11.8345,-11.4175,-12.1765,-11.4545,-11.7755,-12.0585,-12.5405,-12.6615,-12.3045,-12.6245,-12.6045,-12.6125,-12.8735,-12.9835,-12.6515,-12.6185,-12.6205,-12.5945,-13.1865,-13.4175,-13.0855,-13.1505,-12.6485,-13.0075,-13.3965,-13.5415,-13.4345,-13.4415,-13.1525,-13.2784,-13.2375]\n",
        "      Y : [55.313,55.822,27.607,-0.722,-28.625,-56.514,-56.309,55.625,55.8,-0.502,-0.051,-56.284,-56.408,55.822,55.771,-0.549,-0.875,-56.205,-56.323,54.693,54.646,-0.706,-0.829,-57.022,-56.261,55.249,55.249,27.431,-0.303,-28.576,-56.203,-56.615]\n",
        "      Z : [951.862,911.065,989.711,865.599,990.356,951.865,911.94,751.883,711.073,796.208,664.203,751.906,711.274,540.93,500.134,585.284,453.095,540.617,500.22,328.212,287.977,373.839,242.014,328.341,287.639,128.355,87.7605,51.1015,173.743,50.4745,128.18,87.8695]\n",
        "    }\n",
        "\n",
        "  }\n",
        "\n",
        "  FlashMatchManager : {\n",
        "    AllowReuseFlash : true\n",
        "    CustomAlgo : []\n",
        "    FlashFilterAlgo : \"\"\n",
        "    HypothesisAlgo : \"PhotonLibHypothesis\"\n",
        "    MatchAlgo : \"QLLMatch\"\n",
        "    ProhibitAlgo : \"\"\n",
        "    StoreFullResult : true\n",
        "    TPCFilterAlgo : \"\"\n",
        "    Verbosity : 2\n",
        "  }\n",
        "\n",
        "  PhotonLibHypothesis : {\n",
        "    CCVCorrection : [1.,1.,1.,1.,1.,1.,1.,1.,1.,1.,1.,1.,1.,1.,1.,1.,1.,1.,1.,1.,1.,1.,1.,1.,1.,1.,1.,1.,1.,1.,1.,1.]\n",
        "    GlobalQE : 0.01\n",
        "  }\n",
        "\n",
        "  QLLMatch : {\n",
        "    NormalizeHypothesis : false\n",
        "    OnePMTPEFracThreshold : 0.3\n",
        "    OnePMTPESumThreshold : 500\n",
        "    OnePMTScoreThreshold : 0.000001\n",
        "    OnePMTXDiffThreshold : 50.;\n",
        "    PEPenaltyThreshold : [6,6,6,6,6,6,6,6,6,6,6,6,6,6,6,6,6,6,6,6,6,6,6,6,6,6,6,6,6,6,6,6]\n",
        "    PEPenaltyValue : [4,4,4,4,4,4,4,4,4,4,4,4,4,4,4,4,4,4,4,4,4,4,4,4,4,4,4,4,4,4,4,4]\n",
        "    QLLMode : 1\n",
        "    RecordHistory : false\n",
        "    Verbosity : 0\n",
        "    XPenaltyThreshold : 60\n",
        "    ZPenaltyThreshold : 60\n",
        "  }\n",
        "\n",
        "}\n",
        "\n",
        "Loading pset=TaggerCROI\n",
        "Loading larlite pset=StorageManager\n",
        "Loading larcv pset=IOManager\n",
        "[DataCoodinator] Initializing\n",
        "[DataCoordinator] initializing filemanager for larcv\n",
        "Hash: 315c9a52f27e8a0e2604c209f18564c0\n",
        "set idtreeproducer: wire dtype=image2d\n",
        "set idtreeproducer: segment dtype=partroi\n",
        "File /home/twongjirad/working/data/larbys/mcc8v2/numu/larcv_mc_0008.root file-flavor: aa97345a5627748275dcafa571ac21f5 number of events: 353: 1 9093 454601\n",
        "  larcv loading 1 files.\n",
        "[DataCoordinator] initializing filemanager for larlite\n",
        "Hash: bca9f59d11e5e0a8f9bd499e85c61623\n",
        "File /home/twongjirad/working/data/larbys/mcc8v2/numu/larlite_mcinfo_0008.root flavor-hash: 9ccdcad5ddfa2103bca8160cbca23dc7 number of events: 353: 1 9093 454601\n",
        "File /home/twongjirad/working/data/larbys/mcc8v2/numu/larlite_opreco_0008.root flavor-hash: f8f2a39262a899b71087f46b6d736013 number of events: 353: 1 9093 454601\n",
        "File /home/twongjirad/working/data/larbys/mcc8v2/numu/larlite_reco2d_0008.root flavor-hash: 203874b61704851046d2dd934b6b242d number of events: 353: 1 9093 454601\n",
        "Index sizes: 353 vs. entries: 1059\n",
        "Final file list size: 0\n",
        "  larlite loading 9 files.\n",
        "\u001b[95m    [NORMAL]  \u001b[0m\u001b[95m<open> \u001b[0mOpening a file in READ mode: /home/twongjirad/working/data/larbys/mcc8v2/numu/larlite_mcinfo_0008.root\n",
        "\u001b[95m    [NORMAL]  \u001b[0m\u001b[95m<open> \u001b[0mOpening a file in READ mode: /home/twongjirad/working/data/larbys/mcc8v2/numu/larlite_opreco_0008.root\n",
        "\u001b[95m    [NORMAL]  \u001b[0m\u001b[95m<open> \u001b[0mOpening a file in READ mode: /home/twongjirad/working/data/larbys/mcc8v2/numu/larlite_reco2d_0008.root\n",
        "\u001b[95m    [NORMAL]  \u001b[0m\u001b[95m<open> \u001b[0mOpening a file in READ mode: /home/twongjirad/working/data/larbys/mcc8v2/numu/larlite_mcinfo_0008.root\n",
        "\u001b[95m    [NORMAL]  \u001b[0m\u001b[95m<open> \u001b[0mOpening a file in READ mode: /home/twongjirad/working/data/larbys/mcc8v2/numu/larlite_opreco_0008.root\n",
        "\u001b[95m    [NORMAL]  \u001b[0m\u001b[95m<open> \u001b[0mOpening a file in READ mode: /home/twongjirad/working/data/larbys/mcc8v2/numu/larlite_reco2d_0008.root\n",
        "\u001b[95m    [NORMAL]  \u001b[0m\u001b[95m<open> \u001b[0mOpening a file in READ mode: /home/twongjirad/working/data/larbys/mcc8v2/numu/larlite_mcinfo_0008.root\n",
        "\u001b[95m    [NORMAL]  \u001b[0m\u001b[95m<open> \u001b[0mOpening a file in READ mode: /home/twongjirad/working/data/larbys/mcc8v2/numu/larlite_opreco_0008.root\n",
        "\u001b[95m    [NORMAL]  \u001b[0m\u001b[95m<open> \u001b[0mOpening a file in READ mode: /home/twongjirad/working/data/larbys/mcc8v2/numu/larlite_reco2d_0008.root\n",
        "    \u001b[95m[NORMAL]\u001b[00m \u001b[0m \u001b[94m<IOManager::prepare_input>\u001b[00m Opening a file in READ mode: /home/twongjirad/working/data/larbys/mcc8v2/numu/larcv_mc_0008.root\n",
        "    \u001b[95m[NORMAL]\u001b[00m \u001b[0m \u001b[94m<IOManager::initialize>\u001b[00m Prepared input with 353 entries...\n",
        "Loading pset=TaggerCROI\n",
        "Loading larlite pset=StorageManagerOut\n",
        "Loading larcv pset=IOManagerOut\n",
        "[DataCoodinator] Initializing\n",
        "[DataCoordinator] initializing filemanager for larcv\n",
        "  larcv loading 0 files.\n",
        "[DataCoordinator] initializing filemanager for larlite\n",
        "  larlite loading 0 files.\n",
        "\u001b[95m    [NORMAL]  \u001b[0m\u001b[95m<open> \u001b[0mOpening a file in kWRITE mode: tagger_anaout_larlite.root\n",
        "NUMBER OF ENTRIES: LARCV=353 LARLITE=353\n"
       ]
      }
     ],
     "prompt_number": 6
    },
    {
     "cell_type": "code",
     "collapsed": false,
     "input": [
      "tagger.printState()"
     ],
     "language": "python",
     "metadata": {},
     "outputs": [
      {
       "metadata": {},
       "output_type": "pyout",
       "prompt_number": 7,
       "text": [
        "\"CosmicTagger State:  Config'd [false] Input [false] ThruMu [false] StopMu [false] Untagged [false] CROI [false]\""
       ]
      }
     ],
     "prompt_number": 7
    },
    {
     "cell_type": "code",
     "collapsed": false,
     "input": [],
     "language": "python",
     "metadata": {},
     "outputs": []
    }
   ],
   "metadata": {}
  }
 ]
}