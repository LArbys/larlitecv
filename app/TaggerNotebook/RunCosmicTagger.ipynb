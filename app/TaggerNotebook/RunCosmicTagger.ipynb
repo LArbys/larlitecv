{
 "metadata": {
  "name": "",
  "signature": "sha256:5471d57b464c3b1c47d472e4c6dfdcb47d90f713796fae7eaa09fe8903dd51fd"
 },
 "nbformat": 3,
 "nbformat_minor": 0,
 "worksheets": [
  {
   "cells": [
    {
     "cell_type": "code",
     "collapsed": false,
     "input": [
      "import numpy as np\n",
      "import ROOT as rt\n",
      "from ROOT import std\n",
      "from larcv import larcv\n",
      "from larlitecv import larlitecv\n",
      "import cv2\n",
      "print \"OpenCV Version: \",cv2.__version__\n",
      "from matplotlib import pyplot as plt\n",
      "%matplotlib inline"
     ],
     "language": "python",
     "metadata": {},
     "outputs": []
    },
    {
     "cell_type": "markdown",
     "metadata": {},
     "source": [
      "## Rule for Checking in the notebook\n",
      "\n",
      "These notebooks can be a pain to merge if there are conflicts. Only check code cells. Clear your output cells."
     ]
    },
    {
     "cell_type": "markdown",
     "metadata": {},
     "source": [
      "## Set Inputs"
     ]
    },
    {
     "cell_type": "code",
     "collapsed": false,
     "input": [
      "cfg_file = \"tagger.cfg\"\n",
      "flist_larcv=\"input_larcv.txt\"\n",
      "flist_larlite=\"input_larlite.txt\""
     ],
     "language": "python",
     "metadata": {},
     "outputs": []
    },
    {
     "cell_type": "markdown",
     "metadata": {},
     "source": [
      "## Drawing Functions"
     ]
    },
    {
     "cell_type": "code",
     "collapsed": false,
     "input": [
      "# UTILITY FUNCTIONS\n",
      "from drawing_functions import *"
     ],
     "language": "python",
     "metadata": {},
     "outputs": []
    },
    {
     "cell_type": "code",
     "collapsed": false,
     "input": [
      "tagger = larlitecv.CosmicTagger( cfg_file, flist_larcv, flist_larlite )"
     ],
     "language": "python",
     "metadata": {},
     "outputs": []
    },
    {
     "cell_type": "code",
     "collapsed": false,
     "input": [
      "tagger.printState()"
     ],
     "language": "python",
     "metadata": {},
     "outputs": []
    },
    {
     "cell_type": "code",
     "collapsed": false,
     "input": [
      "tagger.setEntry(2)"
     ],
     "language": "python",
     "metadata": {},
     "outputs": []
    },
    {
     "cell_type": "code",
     "collapsed": false,
     "input": [
      "processinput_ok = tagger.processInputImages()\n",
      "print \"Processed OK: \",processinput_ok"
     ],
     "language": "python",
     "metadata": {},
     "outputs": []
    },
    {
     "cell_type": "code",
     "collapsed": false,
     "input": [
      "# Define Conversion of image2d to Plottable Input Images\n",
      "\n",
      "inputdata = tagger.getInputData()\n",
      "imgs = []\n",
      "for p in range(inputdata.img_v.size()):\n",
      "    img_cv = make_img( inputdata.img_v.at(p), -5, 50, cv2.COLORMAP_HOT )\n",
      "    draw_flashes( img_cv, inputdata )\n",
      "    plt.figure(figsize=(40,40))\n",
      "    plt.imshow( img_cv )\n"
     ],
     "language": "python",
     "metadata": {},
     "outputs": []
    },
    {
     "cell_type": "markdown",
     "metadata": {},
     "source": [
      "## Step 1: Find Boundary Crossings"
     ]
    },
    {
     "cell_type": "code",
     "collapsed": false,
     "input": [
      "boundarytagger_ok = tagger.findBoundaryEnds()\n",
      "tagger.printState()"
     ],
     "language": "python",
     "metadata": {},
     "outputs": []
    },
    {
     "cell_type": "code",
     "collapsed": false,
     "input": [
      "# Pre-filtered End points\n",
      "inputdata = tagger.getInputData()\n",
      "thrumudata = tagger.getThruMuData()\n",
      "minpix = 10.0\n",
      "maxpix = 500.0\n",
      "\n",
      "endtype_colors = {0:(0,0,255),   # top\n",
      "                  1:(255,0,0),   # bot\n",
      "                  2:(0,255,255), # upstream\n",
      "                  3:(255,0,255), # downstream\n",
      "                  }\n",
      "boundary_symbol = {0:\"T\",\n",
      "                   1:\"B\",\n",
      "                   2:\"U\",\n",
      "                   3:\"D\",\n",
      "                   4:\"A\",\n",
      "                   5:\"C\",\n",
      "                   6:\"E\"}\n",
      "for p in range(inputdata.img_v.size()):\n",
      "    #if p not in [2]:\n",
      "    #    continue\n",
      "    \n",
      "    # mark end points\n",
      "    print \"[ PLANE %d ]\"%(p)\n",
      "    print \"Side-tagger End points: \",thrumudata.side_spacepoint_v.size()\n",
      "    \n",
      "    img_cv = make_img( inputdata.img_v.at(p), -5, 50, cv2.COLORMAP_HOT )\n",
      "    #print \"number of flashes: \",inputdata.opflashes_v.size()\n",
      "    #draw_flashes( img_cv, inputdata )\n",
      "    for ipt in range(thrumudata.side_spacepoint_v.size()):\n",
      "        sp = thrumudata.side_spacepoint_v.at(ipt)\n",
      "        #print (sp.at(2).col, sp.at(2).row)\n",
      "        color = endtype_colors[ sp.type() ]\n",
      "        img_cv = cv2.circle( img_cv, (sp.at(p).col, sp.at(p).row), 6, color, -1 )\n",
      "        img_cv = cv2.putText( img_cv, \"%s%d\"%(boundary_symbol[sp.type()],ipt), (sp.at(p).col+8, sp.at(p).row+5), cv2.FONT_HERSHEY_PLAIN, 2.0, (255,255,255),2 )\n",
      "    print \"Anode-tagged End points: \",thrumudata.anode_spacepoint_v.size()\n",
      "    for ipt in range(thrumudata.anode_spacepoint_v.size()):\n",
      "        sp = thrumudata.anode_spacepoint_v.at(ipt)\n",
      "        color = (255,140,0)\n",
      "        img_cv = cv2.circle( img_cv, (sp.at(p).col, sp.at(p).row), 6, color, -1 )\n",
      "        img_cv = cv2.putText( img_cv, \"%s%d\"%(boundary_symbol[sp.type()],ipt), (sp.at(p).col+8, sp.at(p).row+5), cv2.FONT_HERSHEY_PLAIN, 2.0, (255,255,255),2 )\n",
      "    print \"Cathode-tagged End points: \",thrumudata.cathode_spacepoint_v.size()\n",
      "    for ipt in range(thrumudata.cathode_spacepoint_v.size()):\n",
      "        sp = thrumudata.cathode_spacepoint_v.at(ipt)\n",
      "        color = (85,107,47)\n",
      "        img_cv = cv2.circle( img_cv, (sp.at(p).col, sp.at(p).row), 6, color, -1 )\n",
      "        img_cv = cv2.putText( img_cv, \"%s%d\"%(boundary_symbol[sp.type()],ipt), (sp.at(p).col+8, sp.at(p).row+5), cv2.FONT_HERSHEY_PLAIN, 2.0, (255,255,255),2 )\n",
      "\n",
      "    print \"End-tagged End points: \",thrumudata.imgends_spacepoint_v.size()\n",
      "    for ipt in range(thrumudata.imgends_spacepoint_v.size()):\n",
      "        sp = thrumudata.imgends_spacepoint_v.at(ipt)\n",
      "        color = (189,183,107)\n",
      "        img_cv = cv2.circle( img_cv, (sp.at(p).col, sp.at(p).row), 6, color, -1 )\n",
      "        img_cv = cv2.putText( img_cv, \"%s%d\"%(boundary_symbol[sp.type()],ipt), (sp.at(p).col+8, sp.at(p).row+5), cv2.FONT_HERSHEY_PLAIN, 2.0, (255,255,255),2 ) \n",
      "    \n",
      "    plt.figure(figsize=(40,80))\n",
      "    plt.imshow( img_cv )"
     ],
     "language": "python",
     "metadata": {},
     "outputs": []
    },
    {
     "cell_type": "code",
     "collapsed": false,
     "input": [
      "# Filtered End points\n",
      "inputdata = tagger.getInputData()\n",
      "thrumudata = tagger.getThruMuData()\n",
      "minpix = 10.0\n",
      "maxpix = 500.0\n",
      "\n",
      "filtered_img_cv = {}\n",
      "for p in range(inputdata.img_v.size()):\n",
      "    #if p not in [2]:\n",
      "    #    continue    \n",
      "    filtered_img_cv[p] = make_img( inputdata.img_v.at(p), -5, 50, cv2.COLORMAP_HOT )\n",
      "\n",
      "# collect\n",
      "filtered_v = std.vector(\"const larlitecv::BoundarySpacePoint*\")()\n",
      "for spset in [thrumudata.side_filtered_v, thrumudata.anode_filtered_v, thrumudata.cathode_filtered_v, thrumudata.imgends_filtered_v]:\n",
      "    for isp in range(spset.size()):\n",
      "        sp = spset[isp]\n",
      "        filtered_v.push_back(sp)\n",
      "\n",
      "\n",
      "draw_boundary_points( filtered_img_cv, inputdata, filtered_v, True )  \n",
      "\n",
      "# mark end points\n",
      "print \"Filtered Side-tagger End points: \",thrumudata.side_filtered_v.size()\n",
      "#draw_boundary_points( filtered_img_cv, inputdata, thrumudata.side_filtered_v, True )\n",
      "\n",
      "print \"Anode-tagged End points: \",thrumudata.anode_filtered_v.size()\n",
      "#draw_boundary_points( filtered_img_cv, inputdata, thrumudata.anode_filtered_v, True )\n",
      "\n",
      "print \"Cathode-tagged End points: \",thrumudata.cathode_filtered_v.size()\n",
      "#draw_boundary_points( filtered_img_cv, inputdata, thrumudata.cathode_filtered_v, True )\n",
      "\n",
      "print \"End-tagged End points: \",thrumudata.imgends_filtered_v.size()\n",
      "#draw_boundary_points( filtered_img_cv, inputdata, thrumudata.imgends_filtered_v, True )\n",
      "\n",
      "for isp in range(filtered_v.size()):\n",
      "    sp = filtered_v[isp]\n",
      "    print \"#%d\"%(isp),\":\",filtered_v[isp].type(),\"(\",sp.pos()[0],\",\",sp.pos()[1],\",\",sp.pos()[2],\")\"\n",
      "\n",
      "for p in range(3):\n",
      "    plt.figure(figsize=(40,80))\n",
      "    plt.imshow( filtered_img_cv[p] )"
     ],
     "language": "python",
     "metadata": {},
     "outputs": []
    },
    {
     "cell_type": "markdown",
     "metadata": {},
     "source": [
      "## Step 2: ThruMu Tracker"
     ]
    },
    {
     "cell_type": "code",
     "collapsed": false,
     "input": [
      "# RUN THRUMU TRACKER\n",
      "processthrumu_ok = tagger.findThruMuTracks()\n",
      "print \"ThruMu: \",processthrumu_ok"
     ],
     "language": "python",
     "metadata": {},
     "outputs": []
    },
    {
     "cell_type": "code",
     "collapsed": false,
     "input": [
      "thrumudata = tagger.getThruMuData()\n",
      "\"Number of tracks: \",thrumudata.trackcluster3d_v.size(),thrumudata.track_v.size()"
     ],
     "language": "python",
     "metadata": {},
     "outputs": []
    },
    {
     "cell_type": "code",
     "collapsed": false,
     "input": [
      "# Plot ThruMu Tracks\n",
      "thrumudata = tagger.getThruMuData()\n",
      "\n",
      "track_imgs = {}\n",
      "for p in range(inputdata.img_v.size()):\n",
      "    track_imgs[p] = make_img( inputdata.img_v.at(p), -5, 50, cv2.COLORMAP_HOT )\n",
      "\n",
      "draw_boundary_points( track_imgs, inputdata, filtered_v, True )\n",
      "    \n",
      "    \n",
      "print \"Number of Tracks: \",thrumudata.track_v.size()\n",
      "for itrack in range(thrumudata.track_v.size()):\n",
      "    track = thrumudata.track_v[itrack]\n",
      "    npts = track.NumberTrajectoryPoints()\n",
      "    print \"track #%d: number of points=\"%(itrack),npts\n",
      "    fpos = std.vector(\"float\")(3,0)\n",
      "    #randomize color\n",
      "    randcolor = np.random.randint(120,255,3)\n",
      "    for ipt in range(npts):\n",
      "        for i in range(3):\n",
      "            fpos[i] = track.LocationAtPoint(ipt)[i]\n",
      "        imgcoord = larcv.UBWireTool.getProjectedImagePixel(fpos, inputdata.img_v.at(p).meta(), 3)\n",
      "        for p in range(3):\n",
      "            track_imgs[p] = cv2.circle( track_imgs[p], (imgcoord.at(p+1), imgcoord.at(0)), 5, (randcolor[0],randcolor[1],randcolor[2]), 3 )\n",
      "            if ipt==0:\n",
      "                cv2.putText( track_imgs[p], \"#%d\"%(itrack), (imgcoord.at(p+1)+10, imgcoord.at(0)-10), cv2.FONT_HERSHEY_PLAIN, 3.0, (255,255,255), 3 )\n",
      "for p in range(3):\n",
      "    plt.figure(figsize=(40,80))\n",
      "    plt.imshow( track_imgs[p] )  "
     ],
     "language": "python",
     "metadata": {},
     "outputs": []
    },
    {
     "cell_type": "code",
     "collapsed": false,
     "input": [
      "# Plot Thru-Mu tagged images\n",
      "thrumudata = tagger.getThruMuData()\n",
      "thrumu_tagged_imgs = {}\n",
      "for p in range(inputdata.img_v.size()):\n",
      "    thrumu_tagged_imgs[p] = make_img( inputdata.img_v.at(p), 10, 50, cv2.COLORMAP_HOT )\n",
      "    tagged = thrumudata.tagged_v[p]\n",
      "    for r in range(0,tagged.meta().rows()):\n",
      "        for c in range(0,tagged.meta().cols()):\n",
      "            if (tagged.pixel(r,c)>0):\n",
      "                thrumu_tagged_imgs[p][r,c,0] = 255\n",
      "                thrumu_tagged_imgs[p][r,c,1] = 0\n",
      "                thrumu_tagged_imgs[p][r,c,2] = 255\n",
      "\n",
      "\n",
      "for p in range(3):\n",
      "    plt.figure(figsize=(40,80))\n",
      "    plt.imshow( thrumu_tagged_imgs[p] ) "
     ],
     "language": "python",
     "metadata": {},
     "outputs": []
    },
    {
     "cell_type": "markdown",
     "metadata": {},
     "source": [
      "## Step 3 Stop Mu Tagger"
     ]
    },
    {
     "cell_type": "code",
     "collapsed": false,
     "input": [
      "stopmuok = tagger.findStopMu()\n",
      "print \"Stopmu ok: \",stopmuok\n",
      "tagger.printState()"
     ],
     "language": "python",
     "metadata": {},
     "outputs": []
    },
    {
     "cell_type": "code",
     "collapsed": false,
     "input": [
      "# Plot StopMu Tracks\n",
      "inputdata = tagger.getInputData()\n",
      "thrumudata = tagger.getThruMuData()\n",
      "stopmudata = tagger.getStopMuData()\n",
      "\n",
      "track_imgs = {}\n",
      "for p in range(inputdata.img_v.size()):\n",
      "    track_imgs[p] = make_img( inputdata.img_v.at(p), -5, 40, cv2.COLORMAP_HOT )\n",
      "    \n",
      "print \"Number of Tracks: \",stopmudata.track_v.size()\n",
      "for itrack in range(stopmudata.track_v.size()):\n",
      "    track = stopmudata.track_v[itrack]\n",
      "    npts = track.NumberTrajectoryPoints()\n",
      "    print \"track #%d: number of points=\"%(itrack),npts\n",
      "    fpos = std.vector(\"float\")(3,0)\n",
      "    #randomize color\n",
      "    randcolor = np.random.randint(0,255,3)\n",
      "    for ipt in range(npts):\n",
      "        for i in range(3):\n",
      "            fpos[i] = track.LocationAtPoint(ipt)[i]\n",
      "        imgcoord = larcv.UBWireTool.getProjectedImagePixel(fpos, inputdata.img_v.at(p).meta(), 3)\n",
      "        for p in range(3):\n",
      "            track_imgs[p] = cv2.circle( track_imgs[p], (imgcoord.at(p+1), imgcoord.at(0)), 10, (randcolor[0],randcolor[1],randcolor[2]), -1 )\n",
      "            if ipt==0:\n",
      "                cv2.putText( track_imgs[p], \"#%d\"%(itrack), (imgcoord.at(p+1), imgcoord.at(0)+10), cv2.FONT_HERSHEY_PLAIN, 4.0, (255,255,255), 3 )\n",
      "                \n",
      "draw_boundary_points( track_imgs[p], inputdata, thrumudata.unused_spacepoint_v, True )\n",
      "for p in range(3):\n",
      "    print \"Number of StopMu Starting points: \",thrumudata.unused_spacepoint_v.size()\n",
      "    plt.figure(figsize=(40,80))\n",
      "    plt.imshow( track_imgs[p] )  "
     ],
     "language": "python",
     "metadata": {},
     "outputs": []
    },
    {
     "cell_type": "code",
     "collapsed": false,
     "input": [
      "# Plot StopMu/Thru-Mu tagged images\n",
      "thrumudata = tagger.getThruMuData()\n",
      "tagged_imgs = {}\n",
      "for p in range(inputdata.img_v.size()):\n",
      "    tagged_imgs[p] = make_img( inputdata.img_v.at(p), 10, 50, cv2.COLORMAP_HOT )\n",
      "    thru_tagged = thrumudata.tagged_v[p]\n",
      "    stop_tagged = stopmudata.stopmu_v[p]\n",
      "    for r in range(0,tagged.meta().rows()):\n",
      "        for c in range(0,tagged.meta().cols()):\n",
      "            if stop_tagged.pixel(r,c)>0:\n",
      "                tagged_imgs[p][r,c,0] = 255\n",
      "                tagged_imgs[p][r,c,1] = 0\n",
      "                tagged_imgs[p][r,c,2] = 255\n",
      "            elif thru_tagged.pixel(r,c)>0:\n",
      "                tagged_imgs[p][r,c,0] = 255\n",
      "                tagged_imgs[p][r,c,1] = 255\n",
      "                tagged_imgs[p][r,c,2] = 0\n",
      "\n",
      "# collect\n",
      "filtered_v = std.vector(\"const larlitecv::BoundarySpacePoint*\")()\n",
      "for spset in [thrumudata.side_filtered_v, thrumudata.anode_filtered_v, thrumudata.cathode_filtered_v, thrumudata.imgends_filtered_v]:\n",
      "    for isp in range(spset.size()):\n",
      "        sp = spset[isp]\n",
      "        filtered_v.push_back(sp)\n",
      "draw_boundary_points( tagged_imgs, inputdata, filtered_v, True ) \n",
      "\n",
      "for p in range(3):\n",
      "    plt.figure(figsize=(40,80))\n",
      "    plt.imshow( tagged_imgs[p] ) "
     ],
     "language": "python",
     "metadata": {},
     "outputs": []
    },
    {
     "cell_type": "code",
     "collapsed": false,
     "input": [],
     "language": "python",
     "metadata": {},
     "outputs": []
    }
   ],
   "metadata": {}
  }
 ]
}