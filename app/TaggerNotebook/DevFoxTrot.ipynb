{
 "metadata": {
  "name": "",
  "signature": "sha256:1879d791d8585fb808531436d2b4dc99307d7a17b08b2df30c2e91aff93e6ae0"
 },
 "nbformat": 3,
 "nbformat_minor": 0,
 "worksheets": [
  {
   "cells": [
    {
     "cell_type": "code",
     "collapsed": false,
     "input": [
      "import numpy as np\n",
      "from math import exp\n",
      "import ROOT as rt\n",
      "from ROOT import std\n",
      "from larcv import larcv\n",
      "from larlitecv import larlitecv\n",
      "import cv2\n",
      "print \"OpenCV Version: \",cv2.__version__\n",
      "from matplotlib import pyplot as plt\n",
      "%matplotlib inline"
     ],
     "language": "python",
     "metadata": {},
     "outputs": []
    },
    {
     "cell_type": "code",
     "collapsed": false,
     "input": [
      "# UTILITY FUNCTIONS\n",
      "from drawing_functions import *"
     ],
     "language": "python",
     "metadata": {},
     "outputs": []
    },
    {
     "cell_type": "markdown",
     "metadata": {},
     "source": [
      "## Set Inputs"
     ]
    },
    {
     "cell_type": "code",
     "collapsed": false,
     "input": [
      "cfg_file = \"tagger.cfg\"\n",
      "flist_larcv=\"input_larcv.txt\"\n",
      "flist_larlite=\"input_larlite.txt\""
     ],
     "language": "python",
     "metadata": {},
     "outputs": []
    },
    {
     "cell_type": "code",
     "collapsed": false,
     "input": [
      "tagger = larlitecv.CosmicTagger( cfg_file, flist_larcv, flist_larlite )"
     ],
     "language": "python",
     "metadata": {},
     "outputs": []
    },
    {
     "cell_type": "code",
     "collapsed": false,
     "input": [
      "tagger.printState()"
     ],
     "language": "python",
     "metadata": {},
     "outputs": []
    },
    {
     "cell_type": "code",
     "collapsed": false,
     "input": [
      "tagger.setEntry(0)"
     ],
     "language": "python",
     "metadata": {},
     "outputs": []
    },
    {
     "cell_type": "code",
     "collapsed": false,
     "input": [
      "processinput_ok = tagger.processInputImages()\n",
      "print \"Processed OK: \",processinput_ok\n"
     ],
     "language": "python",
     "metadata": {},
     "outputs": []
    },
    {
     "cell_type": "code",
     "collapsed": false,
     "input": [
      "inputdata = tagger.getInputData()\n",
      "for p in range(inputdata.img_v.size()):\n",
      "    img_cv = make_img( inputdata.img_v.at(p), -10, 50 )\n",
      "    draw_flashes( img_cv, inputdata )\n",
      "    f = plt.figure(figsize=(40,40))\n",
      "    plt.imshow( img_cv )"
     ],
     "language": "python",
     "metadata": {},
     "outputs": []
    },
    {
     "cell_type": "code",
     "collapsed": false,
     "input": [
      "# Get Boundary End Points\n",
      "processboundary_ok = tagger.findBoundaryEnds()\n",
      "print \"ThruMu: \",processboundary_ok"
     ],
     "language": "python",
     "metadata": {},
     "outputs": []
    },
    {
     "cell_type": "code",
     "collapsed": false,
     "input": [
      "# Filtered End points\n",
      "inputdata = tagger.getInputData()\n",
      "thrumudata = tagger.getThruMuData()\n",
      "minpix = 10.0\n",
      "maxpix = 500.0\n",
      "\n",
      "filtered_img_cv = {}\n",
      "for p in range(inputdata.img_v.size()):\n",
      "    #if p not in [2]:\n",
      "    #    continue    \n",
      "    filtered_img_cv[p] = make_img( inputdata.img_v.at(p), -5, 50, cv2.COLORMAP_HOT )\n",
      "\n",
      "# collect\n",
      "filtered_v = std.vector(\"const larlitecv::BoundarySpacePoint*\")()\n",
      "for spset in [thrumudata.side_filtered_v, thrumudata.anode_filtered_v, thrumudata.cathode_filtered_v, thrumudata.imgends_filtered_v]:\n",
      "    for isp in range(spset.size()):\n",
      "        sp = spset[isp]\n",
      "        filtered_v.push_back(sp)\n",
      "\n",
      "\n",
      "draw_boundary_points( filtered_img_cv, inputdata, filtered_v, True )  \n",
      "\n",
      "# mark end points\n",
      "print \"Filtered Side-tagger End points: \",thrumudata.side_filtered_v.size()\n",
      "#draw_boundary_points( filtered_img_cv, inputdata, thrumudata.side_filtered_v, True )\n",
      "\n",
      "print \"Anode-tagged End points: \",thrumudata.anode_filtered_v.size()\n",
      "#draw_boundary_points( filtered_img_cv, inputdata, thrumudata.anode_filtered_v, True )\n",
      "\n",
      "print \"Cathode-tagged End points: \",thrumudata.cathode_filtered_v.size()\n",
      "#draw_boundary_points( filtered_img_cv, inputdata, thrumudata.cathode_filtered_v, True )\n",
      "\n",
      "print \"End-tagged End points: \",thrumudata.imgends_filtered_v.size()\n",
      "#draw_boundary_points( filtered_img_cv, inputdata, thrumudata.imgends_filtered_v, True )\n",
      "\n",
      "for isp in range(filtered_v.size()):\n",
      "    print \"#%d\"%(isp),\":\",filtered_v[isp].type()\n",
      "\n",
      "for p in range(3):\n",
      "    plt.figure(figsize=(40,80))\n",
      "    plt.imshow( filtered_img_cv[p] )"
     ],
     "language": "python",
     "metadata": {},
     "outputs": []
    },
    {
     "cell_type": "markdown",
     "metadata": {},
     "source": [
      "## Test StopMuFoxTrot"
     ]
    },
    {
     "cell_type": "code",
     "collapsed": false,
     "input": [
      "# Get Fox Trot Config\n",
      "stopmu_foxtrot_cfg = tagger.getConfig().stopmu_foxtrot_cfg\n",
      "stopmu_foxtrot_cfg.min_num_steps = 2\n",
      "stopmu_algo_cfg = stopmu_foxtrot_cfg.foxtrotalgo_cfg\n",
      "stopmu_algo_cfg.step_size = 8.0\n",
      "stopmu_algo_cfg.num_step_attempts = 3\n",
      "stopmu_algo_cfg.pixel_thresholds.resize(3,10.0)\n",
      "stopmu_algo_cfg.min_hit_width = 1\n",
      "stopmu_algo_cfg.hit_neighborhood = 2\n",
      "stopmu_algo_cfg.segment_frac_w_charge = 0.7\n",
      "stopmu_algo_cfg.radius_reduction_factor = 0.5\n",
      "stopmu_algo_cfg.min_cosine = 0.0\n",
      "stopmu_algo_cfg.max_steps = 1000\n",
      "stopmu_algo_cfg.verbosity = 2"
     ],
     "language": "python",
     "metadata": {},
     "outputs": []
    },
    {
     "cell_type": "code",
     "collapsed": false,
     "input": [
      "stopmu_foxalgo = larlitecv.StopMuFoxTrot( stopmu_foxtrot_cfg )"
     ],
     "language": "python",
     "metadata": {},
     "outputs": []
    },
    {
     "cell_type": "code",
     "collapsed": false,
     "input": [
      "tagged0_v = std.vector(\"larcv:Image2D\")()\n",
      "for p in range(3):\n",
      "    empty_tag_img = larcv.Image2D( inputdata.img_v[p].meta() )\n",
      "    empty_tag_img.paint(0.0)\n",
      "    tagged0_v.push_back( empty_tag_img )"
     ],
     "language": "python",
     "metadata": {},
     "outputs": []
    },
    {
     "cell_type": "code",
     "collapsed": false,
     "input": [
      "sp = filtered_v[18]\n",
      "print \"Picked point type=%d (%.3f, %.3f, %.3f)\"%(sp.type(), sp.pos()[0], sp.pos()[1], sp.pos()[2] )"
     ],
     "language": "python",
     "metadata": {},
     "outputs": []
    },
    {
     "cell_type": "code",
     "collapsed": false,
     "input": [
      "stopmu_input_endpts = std.vector(\"larlitecv::BoundarySpacePoint\")()\n",
      "stopmu_input_endpts.push_back( sp )\n",
      "bmtrack_v = stopmu_foxalgo.findStopMuTracks( inputdata.img_v, inputdata.badch_v, tagged0_v, stopmu_input_endpts )\n",
      "\n",
      "print \"Number of tracks: \",bmtrack_v.size()\n",
      "if bmtrack_v.size()>0:\n",
      "    print \"Number of Steps: \",bmtrack_v.front().path3d.size()"
     ],
     "language": "python",
     "metadata": {},
     "outputs": []
    },
    {
     "cell_type": "code",
     "collapsed": false,
     "input": [
      "# Plot StopMu Tracks\n",
      "inputdata = tagger.getInputData()\n",
      "\n",
      "track_imgs = {}\n",
      "for p in range(inputdata.img_v.size()):\n",
      "    track_imgs[p] = make_img( inputdata.img_v.at(p), -5, 40, cv2.COLORMAP_HOT )\n",
      "    \n",
      "for itrack in range(bmtrack_v.size()):\n",
      "    track = bmtrack_v[itrack].path3d\n",
      "    npts = track.size()\n",
      "    print \"track #%d: number of points=\"%(itrack),npts\n",
      "    fpos = std.vector(\"float\")(3,0)\n",
      "    #randomize color\n",
      "    randcolor = np.random.randint(200,255,3)\n",
      "    for ipt in range(npts):\n",
      "        for i in range(3):\n",
      "            fpos[i] = track[ipt][i]\n",
      "        imgcoord = larcv.UBWireTool.getProjectedImagePixel(fpos, inputdata.img_v.at(p).meta(), 3)\n",
      "        for p in range(3):\n",
      "            track_imgs[p] = cv2.circle( track_imgs[p], (imgcoord.at(p+1), imgcoord.at(0)), 10, (randcolor[0],randcolor[1],randcolor[2]), -1 )\n",
      "            if ipt==0:\n",
      "                cv2.putText( track_imgs[p], \"#%d\"%(itrack), (imgcoord.at(p+1), imgcoord.at(0)+10), cv2.FONT_HERSHEY_PLAIN, 4.0, (255,255,255), 3 )\n",
      "for p in range(3):\n",
      "    #draw_boundary_points( track_imgs[p], thrumudata.unused_spacepoint_v )\n",
      "    plt.figure(figsize=(40,80))\n",
      "    plt.imshow( track_imgs[p] )  "
     ],
     "language": "python",
     "metadata": {},
     "outputs": []
    },
    {
     "cell_type": "code",
     "collapsed": false,
     "input": [],
     "language": "python",
     "metadata": {},
     "outputs": []
    }
   ],
   "metadata": {}
  }
 ]
}